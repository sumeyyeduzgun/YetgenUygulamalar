{
 "cells": [
  {
   "attachments": {},
   "cell_type": "markdown",
   "metadata": {},
   "source": [
    "# Problem 1 "
   ]
  },
  {
   "cell_type": "code",
   "execution_count": 2,
   "metadata": {},
   "outputs": [
    {
     "data": {
      "text/plain": [
       "array([  0,   1,  15,  17, 120])"
      ]
     },
     "execution_count": 2,
     "metadata": {},
     "output_type": "execute_result"
    }
   ],
   "source": [
    "# 1 - numpy kütüphanesini import edin\n",
    "import numpy as np\n",
    "# 2 - 5 elemanlı bir numpy array oluşturun\n",
    "x = np.array([0, 1, 17, 120, 15])\n",
    "# 3 - Oluşturduğunuz arrayi küçükten büyüğe sıralayın.\n",
    "np.sort(x)"
   ]
  },
  {
   "attachments": {},
   "cell_type": "markdown",
   "metadata": {},
   "source": [
    "# Problem 2"
   ]
  },
  {
   "cell_type": "code",
   "execution_count": 29,
   "metadata": {},
   "outputs": [
    {
     "name": "stdout",
     "output_type": "stream",
     "text": [
      "[10 15 30 45 60]\n",
      "[ 5  6  7  8  9 10 11 12 13 14 15]\n",
      "[ 50  55  60  65  70  75  80  85  90  95 100]\n",
      "[0. 0. 0. 0. 0. 0. 0. 0. 0. 0.]\n",
      "[1. 1. 1. 1. 1. 1. 1. 1. 1. 1.]\n",
      "[  0.  25.  50.  75. 100.]\n",
      "[24 24 13 27 22]\n",
      "[ 0.62140849  0.43454805  0.12596365 -0.33676278  0.51465554 -0.69801683\n",
      " -0.06583346  0.66094855  0.61022994  0.59608813]\n",
      "[[31 20 23 42 32]\n",
      " [27 46 42 32 10]\n",
      " [20 36 13 19 47]]\n",
      "matrisin satir sayisi 3 dır\n",
      "matrisin sütun sayısı 5 dır\n",
      " i matrisinin en büyük değeri 47 dur\n",
      "i matrisinin en küçük değeri 10 dır\n",
      "i matrisinin ortalaması 29.333333333333332 dır\n",
      " i matrisinin en büyük değeri 47 dur\n",
      "oluşturulan i matrisinin en büyük değerinin indeksi 14 dır\n",
      "Oluşturulan dizi: [10 11 12 13 14 15 16 17 18 19 20]\n",
      "Dizinin ilk üç elemanı: [10 11 12]\n",
      "Dizinin ters yazılmış hali: [20 19 18 17 16 15 14 13 12 11 10]\n",
      "Oluşturulan matris:\n",
      " [[18 20 15 13 14]\n",
      " [19 14 13 11 10]\n",
      " [13 14 18 20 12]]\n",
      "Matrisin ilk satırı: [18 20 15 13 14]\n",
      "Oluşturulan matris:\n",
      " [[14 15 13 13 18]\n",
      " [13 13 11 12 13]\n",
      " [17 19 12 12 19]]\n",
      "Matrisin 2. satır 3. sütundaki elemanı: 11\n",
      "Oluşturulan matris:\n",
      " [[20 10 12 14 14]\n",
      " [11 20 16 14 10]\n",
      " [13 17 12 14 12]]\n",
      "Matristeki ilk elemanlar: [20 11 13]\n",
      "Oluşturulan matris:\n",
      " [[12 13 14 14 17]\n",
      " [13 13 19 14 12]\n",
      " [14 13 17 12 19]]\n",
      "Matristeki elemanların kareleri [[144 169 196 196 289]\n",
      " [169 169 361 196 144]\n",
      " [196 169 289 144 361]]\n",
      "Oluşturulan matris:\n",
      " [[-14  50 -35  48  48]\n",
      " [  7 -43  10 -36  22]\n",
      " [-49  27  28 -29  27]]\n",
      "Pozitif çift sayılar: [50, 48, 48, 10, 22, 28]\n"
     ]
    }
   ],
   "source": [
    "# 1- (10,15,30,45,60) değerlerine sahip numpy dizisi oluşturunuz.\n",
    "a = np.array([10, 15, 30, 45, 60])\n",
    "print(a)\n",
    "# 2- (5-15) arasındaki sayılarla numpy dizisi oluşturunuz.\n",
    "c = np.arange(5, 16)\n",
    "print(c)\n",
    "# 3- (50-100) arasında 5'er 5'er artarak numpy dizisi oluşturunuz.\n",
    "b = np.arange(50, 105, 5)\n",
    "print(b)\n",
    "\n",
    "# 4- 10 elemanlı sıfırlardan oluşan bir dizi oluşturunuz.\n",
    "d = np.zeros(10)\n",
    "print(d)\n",
    "# 5- 10 elemanlı birlerden oluşan bir dizi oluşturunuz.\n",
    "e = np.ones(10)\n",
    "print(e)\n",
    "\n",
    "# 6- (0-100) arasında eşit aralıklı 5 sayı üretin.\n",
    "f = np.linspace(0, 100, 5)\n",
    "print(f)\n",
    "\n",
    "# 7- (10-30) arasında rastgele 5 tane tamsayı üretin.\n",
    "g = np.random.randint(10, 30, 5)\n",
    "print(g)\n",
    "\n",
    "# 8- [-1 ile 1] arasında 10 adet sayı üretin.\n",
    "h = np.random.uniform(-1, 1, 10)\n",
    "print(h)\n",
    "# 9- (3x5) boyutlarında (10-50) arasında rastgele bir matris oluşturunuz.\n",
    "i = np.random.randint(10, 51, size=(3, 5))\n",
    "print(i)\n",
    "\n",
    "# 10- Üretilen matrisin satır ve sütun sayıları toplamlarını hesaplayınız ?\n",
    "satir_sayisi = i.shape[0]\n",
    "sutun_sayisi = i.shape[1]\n",
    "print(f\"matrisin satir sayisi {satir_sayisi} dır\")\n",
    "print(f\"matrisin sütun sayısı {sutun_sayisi} dır\")\n",
    "# 11- Üretilen matrisin en büyük, en küçük ve ortalaması nedir ?\n",
    "enbuyuk = np.amax(i)\n",
    "enkucuk = np.amin(i)\n",
    "ortalama = np.average(i)\n",
    "print(f\" i matrisinin en büyük değeri {enbuyuk} dur\")\n",
    "print(f\"i matrisinin en küçük değeri {enkucuk} dır\")\n",
    "print(f\"i matrisinin ortalaması {ortalama} dır\")\n",
    "\n",
    "# 12- Üretilen matrisin en büyük değerinin indeksi kaçtır ?\n",
    "enbuyuk = np.amax(i)\n",
    "print(f\" i matrisinin en büyük değeri {enbuyuk} dur\")\n",
    "enbuyuk_indeks = np.argmax(i)\n",
    "print(f\"oluşturulan i matrisinin en büyük değerinin indeksi {enbuyuk_indeks} dır\")\n",
    "\n",
    "# 13- (10-20) arasındaki sayıları içeren dizinin ilk 3 elemanını seçiniz.\n",
    "j = np.arange(10, 21)  \n",
    "ilkuc = j[:3]  \n",
    "\n",
    "print(\"Oluşturulan dizi:\", j)\n",
    "print(\"Dizinin ilk üç elemanı:\", ilkuc)\n",
    "\n",
    "# 14- Üretilen dizinin elemanlarını tersten yazdırın.\n",
    "j = np.arange(10, 21)  \n",
    "tersj = j[::-1]  \n",
    "print(\"Dizinin ters yazılmış hali:\", tersj)\n",
    "# 15- Üretilen matrisin ilk satırını seçiniz.\n",
    "j = np.random.randint(10, 21, size=(3, 5))  \n",
    "ilksatir = j[0, :]\n",
    "\n",
    "print(\"Oluşturulan matris:\\n\", j)\n",
    "print(\"Matrisin ilk satırı:\", ilksatir)\n",
    "\n",
    "# 16- Üretilen matrisin 2.satır 3.sütundaki elemanı hangisidir ?\n",
    "j = np.random.randint(10, 21, size=(3, 5))  \n",
    "secilenler = j[1,2]\n",
    "\n",
    "print(\"Oluşturulan matris:\\n\", j)\n",
    "print(\"Matrisin 2. satır 3. sütundaki elemanı:\", secilenler)\n",
    "\n",
    "# 17- Üretilen matrisin tüm satırlardaki ilk elemanı seçiniz.\n",
    "j = np.random.randint(10, 21, size=(3, 5))  \n",
    "ilkler = j[:,0]\n",
    "\n",
    "print(\"Oluşturulan matris:\\n\", j)\n",
    "print(\"Matristeki ilk elemanlar:\", ilkler)\n",
    "# 18- Üretilen matrisin her bir elemanının karesini alınız.\n",
    "j = np.random.randint(10, 21, size=(3, 5))  \n",
    "kare = j**2\n",
    "\n",
    "print(\"Oluşturulan matris:\\n\", j)\n",
    "print(\"Matristeki elemanların kareleri\", kare)\n",
    "\n",
    "# 19- Üretilen matris elemanlarının hangisi pozitif çift sayıdır ? Aralığı (-50,+50) arasında yapınız.\n",
    "j = np.random.randint(-50, 51, size=(3, 5))  \n",
    "\n",
    "print(\"Oluşturulan matris:\\n\", j)\n",
    "print(\"Pozitif çift sayılar:\", [x for x in j.flatten() if x > 0 and x % 2 == 0])\n"
   ]
  }
 ],
 "metadata": {
  "kernelspec": {
   "display_name": "Python 3",
   "language": "python",
   "name": "python3"
  },
  "language_info": {
   "codemirror_mode": {
    "name": "ipython",
    "version": 3
   },
   "file_extension": ".py",
   "mimetype": "text/x-python",
   "name": "python",
   "nbconvert_exporter": "python",
   "pygments_lexer": "ipython3",
   "version": "3.11.1"
  },
  "orig_nbformat": 4,
  "vscode": {
   "interpreter": {
    "hash": "5026d2d6e7aaaaba093def813beadff083d8733e4a511af01735cbabd156995d"
   }
  }
 },
 "nbformat": 4,
 "nbformat_minor": 2
}
