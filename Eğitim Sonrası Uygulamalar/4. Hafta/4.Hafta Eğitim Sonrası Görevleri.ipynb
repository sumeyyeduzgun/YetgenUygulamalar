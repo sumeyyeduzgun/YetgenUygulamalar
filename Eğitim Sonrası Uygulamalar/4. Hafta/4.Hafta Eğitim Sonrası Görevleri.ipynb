{
 "cells": [
  {
   "cell_type": "markdown",
   "metadata": {},
   "source": [
    "# Problem 1\n",
    "`ogrenciler` adında bir sözlük oluşturunuz. Kullanıcıdan döngü yardımıyla 3 öğrenci için veri girmesini isteyerek öğrencilerin sırasıyla okul numarası, isim, soy isim, telefon numarası ve doğum tarihi bilgilerini alınız. Aldığınız öğrenci bilgilerini yine aynı döngü yardımıyla `ogrenciler` adındaki sözlükte saklayınız. Daha sonra öğrenci bilgilerinin bulunduğu sözlük yapısını ekrana bastırınız.\n",
    "\n"
   ]
  },
  {
   "cell_type": "code",
   "execution_count": 4,
   "metadata": {},
   "outputs": [
    {
     "name": "stdout",
     "output_type": "stream",
     "text": [
      "{'İsim': 'sümeyye', 'Soyisim': 'düzgün', 'Okul numarası': 1, 'Telefon numarası': 553, 'Doğum tarihi': '15 temmuz'}\n",
      "{'İsim': 'sümeyra', 'Soyisim': 'düzgün', 'Okul numarası': 2, 'Telefon numarası': 533, 'Doğum tarihi': '22 temmuz'}\n",
      "{'İsim': 'yusuf', 'Soyisim': 'düzgün', 'Okul numarası': 3, 'Telefon numarası': 532, 'Doğum tarihi': '30 mart'}\n",
      "<class 'dict'>\n"
     ]
    }
   ],
   "source": [
    "# 1.Problemin Çözümünü Buraya Yazınız\n",
    "ogrenciler = {}\n",
    "for i in range(3):\n",
    "    ogrenciler[\"İsim\"] = input(\"İsminizi giriniz: \")\n",
    "    ogrenciler[\"Soyisim\"] = input(\"Soyisminizi giriniz: \")\n",
    "    ogrenciler[\"Okul numarası\"] = int(input(\"Okul numaranızı giriniz: \"))\n",
    "    ogrenciler[\"Telefon numarası\"] = int(input(\"Telefon numaranızı giriniz: \"))\n",
    "    ogrenciler[\"Doğum tarihi\"] = str(input(\"Doğum tarihinizi giriniz: \"))\n",
    "    print(ogrenciler)\n",
    "print(type(ogrenciler))\n"
   ]
  },
  {
   "cell_type": "markdown",
   "metadata": {},
   "source": [
    "# Problem 2\n",
    "\n",
    "### a - Biraz ısınarak başlayalım!\n",
    "\n",
    "```\n",
    "numbers = [5,10,10,15,15,15,20,20,20,20]\n",
    "```\n",
    "\n",
    "Yukarıda `numbers` adında 10 elemanlı bir liste verilmiştir. Bu listenin her elemanını kontrol eden ve tekrar eden elemanları bir kez olacak şekilde başka bir listeye kopyalayan bir program yazınız. Son olarak oluşturduğunuz listeyi ekrana bastırınız.\n",
    "\n",
    "\n",
    "\n",
    "\n",
    "```\n",
    ">Output\n",
    "[5, 10, 15, 20]\n",
    "```\n"
   ]
  },
  {
   "cell_type": "code",
   "execution_count": 7,
   "metadata": {},
   "outputs": [
    {
     "name": "stdout",
     "output_type": "stream",
     "text": [
      "listedeki sayılar [5, 10, 15, 20] dır\n",
      "{10, 20, 15}\n"
     ]
    }
   ],
   "source": [
    "# 2.Problemin a Şıkkının Çözümünü Buraya Yazınız\n",
    "numbers = [5,10,10,15,15,15,20,20,20,20]\n",
    "numbers2 = []\n",
    "Repeat_Numbers =[]\n",
    "for number in numbers: \n",
    "    if number not in numbers2:\n",
    "        numbers2.append(number)\n",
    "    else: \n",
    "        Repeat_Numbers.append(number)\n",
    "print(f\"listedeki sayılar {numbers2} dır\")\n",
    "print(set(Repeat_Numbers))"
   ]
  },
  {
   "cell_type": "markdown",
   "metadata": {},
   "source": [
    "### 🌶️ b) Hadi işi biraz daha zorlaştıralım! \n",
    "\n",
    "\n",
    "Şimdiyse senden `numbers` isimli listedeki tekrar eden elemanları `repeatNumbers` adındaki listeye; tekrar etmeyen elemanları `uniqueNumbers`adındaki listeye kopyalayan yazmanı ve listeleri ekrana bastırmanı bekliyoruz\n",
    "\n",
    "```\n",
    ">Output\n",
    "Tekrar Eden Elemanlar: [10, 10, 15, 15, 15, 20, 20, 20, 20]\n",
    "Tekrar Etmeyen Elemanlar: [5]\n",
    "```"
   ]
  },
  {
   "cell_type": "code",
   "execution_count": 17,
   "metadata": {},
   "outputs": [
    {
     "name": "stdout",
     "output_type": "stream",
     "text": [
      "tekrar eden sayılar [10, 10, 15, 15, 15, 20, 20, 20, 20] dır\n",
      "Tekrar Etmeyen Elemanlar: [5]\n"
     ]
    }
   ],
   "source": [
    "# 2.Problemin b Şıkkının Çözümünü Buraya Yazınız\n",
    "numbers = [5,10,10,15,15,15,20,20,20,20]\n",
    "repeatNumbers = []\n",
    "uniqueNumbers = []\n",
    "for number in numbers:\n",
    "    if numbers.count(number) > 1:\n",
    "        repeatNumbers.append(number)\n",
    "    elif number not in uniqueNumbers:\n",
    "        uniqueNumbers.append(number)\n",
    "print(f\"tekrar eden sayılar {repeatNumbers} dır\")\n",
    "print(\"Tekrar Etmeyen Elemanlar:\", list(set(uniqueNumbers)))\n",
    "\n"
   ]
  },
  {
   "cell_type": "markdown",
   "metadata": {},
   "source": [
    "# Problem 3\n",
    "sn1 = {1,2,3,4,5}\n",
    "\n",
    "sn2 = {4,5,6,7,8}\n",
    "\n",
    " Verilen 2 adet küme için kesişimlerini, farklarını ve birleşimlerini bulunuz. "
   ]
  },
  {
   "cell_type": "code",
   "execution_count": 5,
   "metadata": {},
   "outputs": [
    {
     "name": "stdout",
     "output_type": "stream",
     "text": [
      "Kümelerin kesişimi {4, 5} tür\n",
      "kümelerin birleşimi elemanları {1, 2, 3, 4, 5, 6, 7, 8} tür\n",
      "kümelerin farkı {1, 2, 3} tir\n"
     ]
    }
   ],
   "source": [
    "# 3.Problemin Çözümünü Buraya Yazınız\n",
    "sn1 = {1,2,3,4,5}\n",
    "sn2 = {4,5,6,7,8}\n",
    "sn3 = sn1.intersection(sn2)\n",
    "sn4 = sn1.union(sn2)\n",
    "sn5 = sn1.difference(sn2)\n",
    "print(f\"Kümelerin kesişimi {sn3} tür\")\n",
    "print(f\"kümelerin birleşimi elemanları {sn4} tür\")\n",
    "print(f\"kümelerin farkı {sn5} tir\")"
   ]
  },
  {
   "cell_type": "markdown",
   "metadata": {},
   "source": [
    "# Problem 4\n",
    "\n",
    "Buradaki işlemlerimizin tamamı stringler içindir. Aşağıda verilecek olan metodlar için kendinizin örnek yaratması gerekmektedir. \n",
    "\n",
    "Örneğin `upper` için `string` değişkeni oluştururken` k = \"BAC\"` şeklinde oluşturmayınız. Bunun yerine k değişkenini `k = \"bac`\" şeklinde oluşturmanız `upper` metodundaki değişimi görebilmeniz için daha iyi olacaktır.\n",
    "\n",
    "Bütün metodlardaki değişimin gözle görülür şekilde değişimi beklenmektedir.\n",
    "\n",
    "\n",
    "1- capitalize(), lower(), upper(), swapcase(), title(), replace()\n",
    "\n",
    "2- endswith(), startswith(), find(), index(), count()\n",
    "\n",
    "3- split(), strip(), join(), islower(), isalpha(), isdigit()\n",
    "\n",
    "\n",
    "Yukarıdaki `string` metodlarındaki değişimleri görebildiğimiz bir program yazınız.\n"
   ]
  },
  {
   "cell_type": "code",
   "execution_count": 6,
   "metadata": {},
   "outputs": [
    {
     "name": "stdout",
     "output_type": "stream",
     "text": [
      "abcdef ghjk\n",
      "Abcdef ghjk\n",
      "abcdef ghjk\n",
      "ABCDEF GHJK\n",
      "AbCDeF GHJK\n",
      "Abcdef Ghjk\n",
      "True\n",
      "False\n",
      "3\n",
      "2\n",
      "3\n",
      "['abcdef', 'ghjk']\n",
      "abcdef ghjk\n",
      "abc#def#ghjk\n",
      "True\n",
      "False\n",
      "False\n"
     ]
    }
   ],
   "source": [
    "# 4.Problemin Çözümünü Buraya Yazınız\n",
    "k = \"abcdef ghjk\"\n",
    "print(k)\n",
    "print(k.capitalize())\n",
    "print(k.lower())\n",
    "print(k.upper())\n",
    "k1 = \"aBcdEf ghjk\"\n",
    "print(k1.swapcase())\n",
    "print(k.title())\n",
    "print(k.endswith(\"jk\"))\n",
    "print(k.startswith(\"cdef\"))\n",
    "print(k.find(\"def\"))\n",
    "print(k.index(\"cde\",0,10))\n",
    "k2 = \"abceedef ghjk\"\n",
    "print(k2.count(\"e\"))\n",
    "print(k.split(\" \"))\n",
    "k3 = \"      abcdef ghjk     \"\n",
    "k3 = k3.strip()\n",
    "print(k3)\n",
    "k4  = (\"abc\",\"def\", \"ghjk\")\n",
    "print(\"#\".join(k4))\n",
    "k = \"abcdef ghjk\"\n",
    "print(k.islower())\n",
    "print(k.isalpha())\n",
    "k5 = \"a12bcdef ghjk\"\n",
    "print(k5.isdigit())\n",
    "\n"
   ]
  }
 ],
 "metadata": {
  "kernelspec": {
   "display_name": "Python 3.10.5 64-bit",
   "language": "python",
   "name": "python3"
  },
  "language_info": {
   "codemirror_mode": {
    "name": "ipython",
    "version": 3
   },
   "file_extension": ".py",
   "mimetype": "text/x-python",
   "name": "python",
   "nbconvert_exporter": "python",
   "pygments_lexer": "ipython3",
   "version": "3.11.1"
  },
  "orig_nbformat": 4,
  "vscode": {
   "interpreter": {
    "hash": "5026d2d6e7aaaaba093def813beadff083d8733e4a511af01735cbabd156995d"
   }
  }
 },
 "nbformat": 4,
 "nbformat_minor": 2
}
