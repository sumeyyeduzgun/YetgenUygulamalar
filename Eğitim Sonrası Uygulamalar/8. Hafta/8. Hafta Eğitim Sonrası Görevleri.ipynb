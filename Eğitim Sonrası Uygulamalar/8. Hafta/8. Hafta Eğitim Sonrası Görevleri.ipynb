{
 "cells": [
  {
   "attachments": {},
   "cell_type": "markdown",
   "metadata": {},
   "source": [
    "# Problem 1\n",
    "\n",
    "Şimdi beraber kullanıcılardan aldığımız verileri işleyerek, onlara hem çıktı verecek, hem de aldığımız ve hesapladığımız verileri ileride kullanabilmek adına kaydedeceğiz.\n",
    "\n",
    "\n",
    " **Bu bir veri giriş platformu olacak**\n",
    "\n",
    "\n",
    " * kullanıcıya kaç giriş yapacağını soracağız\n",
    "* kullanıcıdan isim-soyisim, yaş, boy, kilo bilgilerini alarak VKİ hesaplayacağız\n",
    "* ardından bunları sınıflara göre kaydedeceğiz bir dosyaya kaydedeceğiz\n",
    "\n",
    "\n",
    "Sınıflar ise şu şekilde: \n",
    "* 18, 5 kg/m.'nin altında olanlar: Zayıf\n",
    "* 18.5 – 24, 9 kg/m. arasında olanlar: Normal kilolu\n",
    "* 25 – 29, 9 kg/m. arasında olanlar: Fazla kilolu\n",
    "* 30 – 39, 9 kg/m. arasında olanlar: Obez\n",
    "* 40 kg/m.'nin üzerinde olanlar: İleri derecede obez (morbid obez), olarak görülür."
   ]
  },
  {
   "cell_type": "code",
   "execution_count": 1,
   "metadata": {},
   "outputs": [
    {
     "name": "stdout",
     "output_type": "stream",
     "text": [
      "Kullanıcı kaydedildi.\n",
      "Veriler dosyaya kaydedildi.\n"
     ]
    }
   ],
   "source": [
    "# 1.Problemin Çözümünü Buraya Yazınız\n",
    "def vkisonuclari(kilo, boy):\n",
    "    vki = kilo/((boy/100)**2)\n",
    "    return round(vki,1)\n",
    "def sonuclar(vki):\n",
    "    if vki <= 18.5:\n",
    "        return \"Zayıfsınız\"\n",
    "  \n",
    "    elif 18.5 <= vki and vki <= 24.9:\n",
    "        return \"Normal kilolusunuz\"\n",
    "    \n",
    "    elif 25 <= vki and vki <= 29.9:\n",
    "        return \"Fazla kilolusunuz.\"\n",
    "    elif 30 <= vki and vki <= 39.9:\n",
    "        return \"Obezsiniz\"\n",
    "    else:\n",
    "        return \"İleri derece obezsiniz.\"\n",
    "def kaydetme():\n",
    "    kayitsayisi = int(input(\"Kaydetmek istediğiniz kişi sayısını giriniz.:\" ))\n",
    "\n",
    "    for i in range(kayitsayisi):\n",
    "        isim = input(\"İsminizi giriniz: \")\n",
    "        soyisim = input(\"soyisminizi girin: \")\n",
    "        yas = int(input(\"Yaşınızı giriniz: \"))\n",
    "        boy = float(input(\"Boyunuzu giriniz: \"))\n",
    "        kilo = int(input(\"Kilonuzu giriniz: \"))\n",
    "        vki = vkisonuclari(kilo, boy)\n",
    "        sonuc = sonuclar(vki)\n",
    "        veriler = isim + '\\n' + soyisim + '\\n' + str(yas) +'\\n' +  str(boy) + '\\n' + str(kilo) + '\\n' + str(vki) +'\\n' +  sonuc + '\\n'\n",
    "\n",
    "        with open(\"kayıtlar.txt\", \"a\", encoding=\"utf-8\") as file:\n",
    "            file.write(veriler)\n",
    "            file.write(\"*\"*20)\n",
    "            file.write(\"\\n\")\n",
    "            print(\"Kullanıcı kaydedildi.\")\n",
    "    print(\"Veriler dosyaya kaydedildi.\")\n",
    "kaydetme()"
   ]
  },
  {
   "attachments": {},
   "cell_type": "markdown",
   "metadata": {},
   "source": [
    "# Problem 2\n",
    "**YetBar - Smoothie Bank**\n",
    "---\n",
    "YetBar spor salonunun girişinde bulunan, insansız bir sağlıklı içecek otomatıdır. Kullanıcı çeşitli girdiler smoothie içeceğine koyacağı ürünleri belirleyebilir, fiyat hesaplaması yaptırabilir ya da sadece menüyü görüntüleyebilir.\n",
    "\n",
    "**Projenin Amacı:**\n",
    "\n",
    "*   Birbirini etkileyen ve bir kod içerisinde birden fazla defa başvurulacak fonksiyonların oluşturulup, \"fonksiyonel\" proglamlamak.\n",
    "*   Büyük programları yazarken, yazılımcı olarak yapabileceğimiz hatalardan kaçınmak için kontrol yöntemleri geliştirmek.\n",
    "*   Kullanıcı inputlarını ve yaptığımız hesapları, raporlamak/loglamak amacıyla kaydetmek.\n",
    "\n",
    "**Programdan Beklenen Çıktılar**\n",
    "* Program kullanıcıya temelde 2 farklı işlem yapma imkanı sağlar.\n",
    "> 1. Menüyü görüntüleme\n",
    "> 3. Satın alma\n",
    "* Satın alınan her içecek tarih, fiyat bilgisi ile kaydedilmeli ve her zaman ulaşılabilir olmalıdır.\n",
    "\n",
    "\n"
   ]
  },
  {
   "cell_type": "code",
   "execution_count": 9,
   "metadata": {},
   "outputs": [
    {
     "name": "stdout",
     "output_type": "stream",
     "text": [
      "Yetgen smothieebank'e hoşgeldiniz.\n"
     ]
    },
    {
     "ename": "TypeError",
     "evalue": "can't multiply sequence by non-int of type 'str'",
     "output_type": "error",
     "traceback": [
      "\u001b[1;31m---------------------------------------------------------------------------\u001b[0m",
      "\u001b[1;31mTypeError\u001b[0m                                 Traceback (most recent call last)",
      "Cell \u001b[1;32mIn[9], line 35\u001b[0m\n\u001b[0;32m     33\u001b[0m     \u001b[39mwith\u001b[39;00m \u001b[39mopen\u001b[39m(\u001b[39m\"\u001b[39m\u001b[39msmoothie.txt\u001b[39m\u001b[39m\"\u001b[39m, \u001b[39m\"\u001b[39m\u001b[39ma\u001b[39m\u001b[39m\"\u001b[39m, encoding\u001b[39m=\u001b[39m\u001b[39m\"\u001b[39m\u001b[39mutf-8\u001b[39m\u001b[39m\"\u001b[39m) \u001b[39mas\u001b[39;00m file:\n\u001b[0;32m     34\u001b[0m         file\u001b[39m.\u001b[39mwrite(\u001b[39m\"\u001b[39m\u001b[39mSmoothie Türü: \u001b[39m\u001b[39m{smoothie_secimi}\u001b[39;00m\u001b[39m, Miktar: \u001b[39m\u001b[39m{smoothie_miktari}\u001b[39;00m\u001b[39m, Fiyat: \u001b[39m\u001b[39m{smoothie_fiyati}\u001b[39;00m\u001b[39m TL\u001b[39m\u001b[39m\\n\u001b[39;00m\u001b[39m\"\u001b[39m)\n\u001b[1;32m---> 35\u001b[0m satin_Alma()\n",
      "Cell \u001b[1;32mIn[9], line 27\u001b[0m, in \u001b[0;36msatin_Alma\u001b[1;34m()\u001b[0m\n\u001b[0;32m     25\u001b[0m \u001b[39melif\u001b[39;00m smoothie_secimi \u001b[39mnot\u001b[39;00m \u001b[39min\u001b[39;00m menu:\n\u001b[0;32m     26\u001b[0m     \u001b[39mprint\u001b[39m(\u001b[39m\"\u001b[39m\u001b[39mLütfen geçerli bir ürün giriniz.\u001b[39m\u001b[39m\"\u001b[39m)\n\u001b[1;32m---> 27\u001b[0m smoothie_fiyati \u001b[39m=\u001b[39m \u001b[39mstr\u001b[39;49m(menu[smoothie_secimi]) \u001b[39m*\u001b[39;49m smoothie_miktari\n\u001b[0;32m     28\u001b[0m fiyat\u001b[39m.\u001b[39mappend(smoothie_fiyati)\n\u001b[0;32m     29\u001b[0m \u001b[39mprint\u001b[39m(\u001b[39mf\u001b[39m\u001b[39m\"\u001b[39m\u001b[39mAldığınız ürünlerin toplam fiyatı \u001b[39m\u001b[39m{\u001b[39;00msmoothie_fiyati\u001b[39m}\u001b[39;00m\u001b[39m dır.\u001b[39m\u001b[39m\"\u001b[39m)\n",
      "\u001b[1;31mTypeError\u001b[0m: can't multiply sequence by non-int of type 'str'"
     ]
    }
   ],
   "source": [
    "# 2.Problemin Çözümünü Buraya Yazınız\n",
    "import time\n",
    "print(\"Yetgen smothieebank'e hoşgeldiniz.\")\n",
    "def menu_goruntule():\n",
    "    menu = {\"elma\": 2.5,\n",
    "        \"armut\": 3,\n",
    "        \"çilek\": 2,\n",
    "        \"muz\": 4,\n",
    "        \"portakal\": 5}\n",
    "    print(\"----SMOOTHIE MENÜSÜ----\")\n",
    "    for smoothie, fiyat in menu.items():\n",
    "        print(smoothie + \":\", fiyat, \"TL\")\n",
    "def satin_Alma():\n",
    "    icecekturu = []\n",
    "    fiyat = []\n",
    "    menu = {\"elma\": 2.5,\n",
    "        \"armut\": 3,\n",
    "        \"çilek\": 2,\n",
    "        \"muz\": 4,\n",
    "        \"portakal\": 5}\n",
    "    smoothie_secimi = input(\"Lütfen satın almak istediğiniz smoothie türünü seçin: \")\n",
    "    smoothie_miktari = input(\"Lütfen kaç adet satın almak istediğinizi girin: \")\n",
    "    if smoothie_secimi in menu:\n",
    "        icecekturu.append(smoothie_secimi)\n",
    "    elif smoothie_secimi not in menu:\n",
    "        print(\"Lütfen geçerli bir ürün giriniz.\")\n",
    "    smoothie_fiyati = menu[smoothie_secimi] * smoothie_miktari\n",
    "    fiyat.append(smoothie_fiyati)\n",
    "    print(f\"Aldığınız ürünlerin toplam fiyatı {smoothie_fiyati} dır.\")\n",
    "    time.sleep(2)\n",
    "    print(\"Afiyet olsun!\")\n",
    "def dosya(smoothie_secimi, fiyat, smoothie_miktari):\n",
    "    with open(\"smoothie.txt\", \"a\", encoding=\"utf-8\") as file:\n",
    "        file.write(\"Smoothie Türü: {smoothie_secimi}, Miktar: {smoothie_miktari}, Fiyat: {smoothie_fiyati} TL\\n\")\n",
    "satin_Alma()\n",
    "\n",
    "\n",
    "\n",
    "\n"
   ]
  }
 ],
 "metadata": {
  "kernelspec": {
   "display_name": "Python 3",
   "language": "python",
   "name": "python3"
  },
  "language_info": {
   "codemirror_mode": {
    "name": "ipython",
    "version": 3
   },
   "file_extension": ".py",
   "mimetype": "text/x-python",
   "name": "python",
   "nbconvert_exporter": "python",
   "pygments_lexer": "ipython3",
   "version": "3.11.1"
  },
  "orig_nbformat": 4,
  "vscode": {
   "interpreter": {
    "hash": "5026d2d6e7aaaaba093def813beadff083d8733e4a511af01735cbabd156995d"
   }
  }
 },
 "nbformat": 4,
 "nbformat_minor": 2
}
