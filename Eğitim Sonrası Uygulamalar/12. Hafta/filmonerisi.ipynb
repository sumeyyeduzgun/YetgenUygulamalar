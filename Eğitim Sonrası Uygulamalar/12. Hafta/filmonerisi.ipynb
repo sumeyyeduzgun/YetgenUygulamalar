{
 "cells": [
  {
   "cell_type": "code",
   "execution_count": null,
   "metadata": {},
   "outputs": [],
   "source": [
    "# Core Python Programı - Proje Çalışma Dosyası\n",
    "# 4'lü Pythonik YetGen Masası (Deniz - Ferhat - Sema - Sümeyye)\n",
    "# Rastgele Film, Müzik, Kitap Önerisi Yapan Program\n"
   ]
  }
 ],
 "metadata": {
  "language_info": {
   "name": "python"
  },
  "orig_nbformat": 4
 },
 "nbformat": 4,
 "nbformat_minor": 2
}
